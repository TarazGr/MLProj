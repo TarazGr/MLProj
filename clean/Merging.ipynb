{
 "cells": [
  {
   "cell_type": "code",
   "execution_count": 1,
   "metadata": {},
   "outputs": [],
   "source": [
    "%matplotlib inline\n",
    "\n",
    "import pandas as pd\n",
    "import numpy as np"
   ]
  },
  {
   "cell_type": "code",
   "execution_count": 2,
   "metadata": {},
   "outputs": [],
   "source": [
    "data1 = pd.read_csv(\"spotify.csv\", sep=',', encoding=\"utf-8\", index_col=False, header=0, names=[\"Position\", \"Title\", \"Artist\", \"Streams\"])\n",
    "data2 = pd.read_csv(\"billboard.csv\", sep=',', encoding=\"utf-8\", index_col=False, header=0, names=[\"Title\", \"Artist\", \"Peak\", \"Position\"])\n",
    "data = pd.merge(data1, data2, how=\"outer\")\n",
    "data.to_csv(\"dataset.csv\", encoding=\"utf-8\", index=False)"
   ]
  },
  {
   "cell_type": "code",
   "execution_count": null,
   "metadata": {},
   "outputs": [],
   "source": []
  }
 ],
 "metadata": {
  "kernelspec": {
   "display_name": "Python 3",
   "language": "python",
   "name": "python3"
  },
  "language_info": {
   "codemirror_mode": {
    "name": "ipython",
    "version": 3
   },
   "file_extension": ".py",
   "mimetype": "text/x-python",
   "name": "python",
   "nbconvert_exporter": "python",
   "pygments_lexer": "ipython3",
   "version": "3.6.7"
  }
 },
 "nbformat": 4,
 "nbformat_minor": 2
}
